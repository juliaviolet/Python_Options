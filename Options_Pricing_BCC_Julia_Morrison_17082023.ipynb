{
  "nbformat": 4,
  "nbformat_minor": 0,
  "metadata": {
    "colab": {
      "provenance": [],
      "authorship_tag": "ABX9TyNxjTzjvCqrQCj7Mj9l9l9V",
      "include_colab_link": true
    },
    "kernelspec": {
      "name": "python3",
      "display_name": "Python 3"
    },
    "language_info": {
      "name": "python"
    }
  },
  "cells": [
    {
      "cell_type": "markdown",
      "metadata": {
        "id": "view-in-github",
        "colab_type": "text"
      },
      "source": [
        "<a href=\"https://colab.research.google.com/github/juliaviolet/Python_Options/blob/main/Options_Pricing_BCC_Julia_Morrison_17082023.ipynb\" target=\"_parent\"><img src=\"https://colab.research.google.com/assets/colab-badge.svg\" alt=\"Open In Colab\"/></a>"
      ]
    },
    {
      "cell_type": "markdown",
      "source": [
        "**Bakshi, Cao, and Chen (BCC '97) Model Overview**\n",
        "\n",
        "Its characteristic function is:\n",
        "$\n",
        "\\Phi_{\\text{BCC}}(u) = \\Phi_{\\text{H93}}(u) \\times \\Phi_{\\text{M76}}(u) \\times e^{\\rho_J \\lambda (\\exp(i u \\mu_V \\delta_V) - 1) T}\n",
        "$\n",
        "\n",
        "**Key Features:**\n",
        "\n",
        "1. **Stochastic Volatility and Asset Price Jumps:** BCC integrates H93's stochastic volatility and M76's asset price jumps, uniquely adding correlated volatility jumps.\n",
        "2. **Volatility Jumps:** Parameters include expected volatility jump size ($\\mu_V$), standard deviation of the jump size ($\\delta_V$), and correlation between asset price jumps and volatility ($\\rho_J$).\n",
        "3. **Calibration:** Uses optimization to align model with market data.\n",
        "\n",
        "**Model Characteristics:**\n",
        "\n",
        "- **Stock Price ($S_t$)**: Current underlying value.\n",
        "- **Volatility ($\\sigma_t$)**: Stock's stochastic instantaneous volatility.\n",
        "- **Risk-free Rate ($r_t$)**: Stochastic, mean-reverting risk-free rate.\n",
        "- **Jump Intensity ($\\lambda$)**: Dictates stock price jump frequency.\n",
        "- **Mean Reversion Speed ($\\kappa$)**: Rate of stochastic interest/volatility reversion.\n",
        "- **Correlations:** Among stock price, volatility, and interest rate.\n",
        "\n",
        "**Tools:**\n",
        "\n",
        "1. **Integration & Optimization:** Uses `quad` and `minimize` from `scipy.\n",
        "2. **Data & Boosting:** Uses Pandas, NumPy and Numba's `njit`.\n",
        "\n",
        "**Strengths:**\n",
        "\n",
        "1. **Modeling:** Integrates volatility, price jumps, and volatility jumps.\n",
        "2. **Versatility:** Emulates diverse market scenarios.\n",
        "3. **Correlation Insight:** Considers asset price and volatility jump correlation.\n",
        "\n",
        "**Weaknesses:**\n",
        "\n",
        "1. **High Complexity:** Mathematically and computationally intensive.\n",
        "2. **Calibration Demands:** Requires ample market data.\n",
        "3. **Overfitting Risk:** May fit too closely to calibration data.\n",
        "\n",
        "**Improvement Areas:**\n",
        "\n",
        "1. **Efficiency:** Enhance computational performance.\n",
        "2. **Parameter Stability:** Introduce optimization constraints.\n",
        "3. **Validation:** Test against benchmarks and market data.\n"
      ],
      "metadata": {
        "id": "D3X4otOO6Ela"
      }
    }
  ]
}