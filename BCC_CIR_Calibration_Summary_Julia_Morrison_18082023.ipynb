{
  "nbformat": 4,
  "nbformat_minor": 0,
  "metadata": {
    "colab": {
      "provenance": [],
      "authorship_tag": "ABX9TyNzGQga2R3H8cirntL7SLCB",
      "include_colab_link": true
    },
    "kernelspec": {
      "name": "python3",
      "display_name": "Python 3"
    },
    "language_info": {
      "name": "python"
    }
  },
  "cells": [
    {
      "cell_type": "markdown",
      "metadata": {
        "id": "view-in-github",
        "colab_type": "text"
      },
      "source": [
        "<a href=\"https://colab.research.google.com/github/juliaviolet/Python_Options/blob/main/BCC_CIR_Calibration_Summary_Julia_Morrison_18082023.ipynb\" target=\"_parent\"><img src=\"https://colab.research.google.com/assets/colab-badge.svg\" alt=\"Open In Colab\"/></a>"
      ]
    },
    {
      "cell_type": "markdown",
      "source": [
        "The **BCC97** model seamlessly merges the **H93** model's stochastic volatility with the **M76** model's jump diffusion, introducing correlated jumps in volatility and the incorporation of the **CIR** process to model stochastic interest rates.\n",
        "\n",
        "$\n",
        "\\Phi_{\\text{BCC}}(u) = \\Phi_{\\text{H93}}(u) \\times \\Phi_{\\text{M76}}(u) \\times e^{\\rho_J \\lambda (\\exp(i u \\mu_V \\delta_V) - 1) T}\n",
        "$\n",
        "\n",
        "**Methods & Visualization:**  \n",
        "1. **Optimization**: A tailored objective function helped calibrate the model's parameters until errors fell below 5%.\n",
        "2. **Visualization**: I employed 3D plots (using Matplotlib) for call and put options, overlaying model prices against market prices. A detailed scatter plot (using Plotly) was also crafted, color-coded by percentage error, providing an insightful view of model accuracy.\n",
        "\n",
        "**Results:**  \n",
        "Post recalibration, the BCC model aligned closely with market prices, consistently reflecting a percentage error below 5%.\n",
        "\n",
        "**Tools & Techniques:**  \n",
        "1. **Characteristic Functions**: Essential for Fourier-based pricing.\n",
        "2. **Numerical & Optimization Tools**: Leveraged `quad` for integrals and `minimize` for model calibration.\n",
        "3. **Data Manipulation**: Utilized Pandas and NumPy.\n",
        "4. **Performance**: The `njit` decorator from Numba ensured efficient calculations.\n",
        "\n",
        "**Strengths & Weaknesses:**  \n",
        "1. **Strengths**: BCC's granularity captures various market dynamics, adeptly handles correlations, and is adaptable to myriad market scenarios.\n",
        "2. **Weaknesses**: Its detailed architecture demands computational rigor, calibration poses challenges, and overfitting is a potential risk.\n",
        "\n",
        "**Improvement Avenues:**  \n",
        "1. **Efficiency**: Further code enhancements.\n",
        "2. **Parameter Stability**: Using constraints for consistent estimates.\n",
        "3. **Validation**: Intensive testing against benchmarks and real-world data.\n",
        "\n",
        "**Conclusion:**  \n",
        "The BCC model, profound in its detail and flexibility, emerges as a powerful instrument for option pricing in financial analysis. With the right computational approach, as exhibited here, it can predict prices with remarkable accuracy, underscoring its real-world applicability."
      ],
      "metadata": {
        "id": "r_GZwGSsj8Ps"
      }
    }
  ]
}