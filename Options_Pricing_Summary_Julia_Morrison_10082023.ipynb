{
  "nbformat": 4,
  "nbformat_minor": 0,
  "metadata": {
    "colab": {
      "provenance": [],
      "authorship_tag": "ABX9TyNLmMEIzCo6UKfGUjRJcvR9",
      "include_colab_link": true
    },
    "kernelspec": {
      "name": "python3",
      "display_name": "Python 3"
    },
    "language_info": {
      "name": "python"
    }
  },
  "cells": [
    {
      "cell_type": "markdown",
      "metadata": {
        "id": "view-in-github",
        "colab_type": "text"
      },
      "source": [
        "<a href=\"https://colab.research.google.com/github/juliaviolet/Python_Options/blob/main/Options_Pricing_Summary_Julia_Morrison_10082023.ipynb\" target=\"_parent\"><img src=\"https://colab.research.google.com/assets/colab-badge.svg\" alt=\"Open In Colab\"/></a>"
      ]
    },
    {
      "cell_type": "markdown",
      "source": [
        "**Merton (M76) Model**:\n",
        "The Merton model incorporates volatility and jumps in asset prices.  \n",
        "\n",
        "$\n",
        "\\Phi_T(u) = \\exp \\left( \\left( i u \\omega + \\lambda \\left( \\exp \\left( i u \\mu - u^2 \\frac{\\delta^2}{2} \\right) - 1 \\right) \\right) T \\right)\n",
        "$\n",
        "$\n",
        "C_0 = \\max \\left( 0, S_0 - e^{-rT} \\sqrt{\\frac{S_0 K}{\\pi}} \\times \\int_0^\\infty \\frac{\\exp \\left( i u \\ln \\left( \\frac{S_0}{K} \\right) \\right) \\Phi_T(u - \\frac{i}{2})}{u^2 + 0.25} \\, du \\right)$\n",
        "\n",
        "**Heston (H93) Model**:\n",
        "The Heston model characterizes stochastic volatility.\n",
        "\n",
        "$\n",
        "\\Phi(u, t; x) = \\exp \\left( \\text{H}_1 + \\text{H}_2 v_0 \\right)\n",
        "$\n",
        "Where:\n",
        "$\n",
        "\\text{H}_1 = r u i t + \\frac{\\kappa_v \\theta_v}{\\sigma_v^2} \\left[ (\\kappa_v - \\rho \\sigma_v ui + c2) t - 2 \\ln \\left( \\frac{1 - c3 e^{c2 t}}{1 - c3} \\right) \\right]\n",
        "$\n",
        "$\n",
        "\\text{H}_2 = \\frac{\\kappa_v - \\rho \\sigma_v ui + c2}{\\sigma_v^2} \\left[ \\frac{1 - e^{c2 t}}{1 - c3 e^{c2 t}} \\right]\n",
        "$\n",
        "$\n",
        "C_0 = \\max \\left( 0, S_0 - \\exp(-r T) \\frac{\\sqrt{S_0 K}}{\\pi} \\int_0^{\\infty} \\text{Re} \\left( \\frac{\\exp \\left( iu \\ln(S_0 / K) \\right) \\Phi_T(u - i/2)}{u^2 + 0.25} \\right) du \\right)\n",
        "$\n",
        "\n",
        "**Bates (B96) Model**:\n",
        "The Bates model combines Heston's volatility with Merton's jump-diffusion.\n",
        "\n",
        "$\n",
        "C = \\max\\left(0, S_0 - e^{-rT} \\sqrt{S_0 K} \\int_0^{\\infty} \\frac{\\text{Re}\\left(e^{iu \\ln\\left(\\frac{S_0}{K}\\right)} \\phi(u - i/2, T)\\right)}{u^2 + 1/4} du\\right)\n",
        "$\n",
        "\n",
        "Put options, in all of the above models, are priced using the put-call parity principle.\n",
        "\n",
        "**Tools & Techniques**:\n",
        "- **Libraries**: The code employs `numpy` for calculations, `pandas` for data manipulation, and `scipy` for numerical integration and optimization. `numba` optimizes Python functions for faster computation.\n",
        "- **Calibration**: Calibration uses the SLSQP method from `scipy.optimize` to ensure efficient alignment of model parameters with observed market prices.\n",
        "\n",
        "**Strengths**:\n",
        "- A comprehensive modeling approach captures stochastic volatility and potential price jumps.\n",
        "- The code's flexibility is evident in its adaptability to various datasets and option types.\n",
        "- The `@njit` decorator from `numba` enhances computational speed.\n",
        "\n",
        "**Areas for Improvement**:\n",
        "- Hardcoded values, like the risk-free rate, can impede universal application.\n",
        "- Repeated file readings might slow performance for larger datasets.\n",
        "- Using `iterrows()` to loop through DataFrame rows isn't optimal for large datasets.\n",
        "\n",
        "The objectives are is to refine option pricing models by encapsulating both stochastic volatility and price jumps, while efficiently tuning model parameters to fit observed market data.\n",
        "\n"
      ],
      "metadata": {
        "id": "f4SPpRMdDKO3"
      }
    }
  ]
}